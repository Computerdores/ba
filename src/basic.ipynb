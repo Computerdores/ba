{
 "cells": [
  {
   "cell_type": "code",
   "execution_count": null,
   "id": "0",
   "metadata": {},
   "outputs": [],
   "source": [
    "%matplotlib widget"
   ]
  },
  {
   "cell_type": "code",
   "execution_count": null,
   "id": "1",
   "metadata": {},
   "outputs": [],
   "source": [
    "import pandas as pd\n",
    "import matplotlib.pyplot as plt"
   ]
  },
  {
   "cell_type": "code",
   "execution_count": null,
   "id": "2",
   "metadata": {},
   "outputs": [],
   "source": [
    "FILES = [\n",
    "    \"res_equeue.csv\",\n",
    "    \"res_ffqueue.csv\",\n",
    "]\n",
    "\n",
    "def load_results(path: str):\n",
    "    df = pd.read_csv(path)\n",
    "\n",
    "    df[\"RX_TIME\"] = df[\"RX_End\"] - df[\"RX_Start\"]\n",
    "    df[\"TX_TIME\"] = df[\"TX_End\"] - df[\"TX_Start\"]\n",
    "    df[\"LATENCY\"] = df[\"RX_End\"] - df[\"TX_End\"]\n",
    "\n",
    "    return df.groupby(\"Wait_Time\")[[\"RX_TIME\", \"TX_TIME\", \"LATENCY\"]].median().reset_index().sort_values(\"Wait_Time\")\n",
    "\n",
    "results = [(load_results(f), f) for f in FILES]\n",
    "\n",
    "for res in results:\n",
    "    print(f\"Mean for {res[1]}:\\n{res[0][[\"RX_TIME\", \"TX_TIME\"]].median()}\")\n",
    "    print(f\"Std. Deriv. for {res[1]}:\\n{res[0][[\"RX_TIME\", \"TX_TIME\"]].std()}\")\n"
   ]
  },
  {
   "cell_type": "code",
   "execution_count": null,
   "id": "3",
   "metadata": {},
   "outputs": [],
   "source": [
    "fig, axs = plt.subplots(1, 3, figsize=(15, 5), sharex=True)\n",
    "\n",
    "for i, col in enumerate([\"RX_TIME\", \"TX_TIME\", \"LATENCY\"]):\n",
    "    for res, f in results:\n",
    "        axs[i].plot(res[\"Wait_Time\"] / 1000, res[col], label=f)\n",
    "    axs[i].set_xlabel(\"Wait Time μs\")\n",
    "    axs[i].set_ylabel(f\"{col} ns\")\n",
    "    axs[i].legend()\n",
    "\n",
    "plt.show()"
   ]
  },
  {
   "cell_type": "code",
   "execution_count": null,
   "id": "4",
   "metadata": {},
   "outputs": [],
   "source": []
  }
 ],
 "metadata": {
  "kernelspec": {
   "display_name": "Python 3",
   "language": "python",
   "name": "python3"
  },
  "language_info": {
   "codemirror_mode": {
    "name": "ipython",
    "version": 3
   },
   "file_extension": ".py",
   "mimetype": "text/x-python",
   "name": "python",
   "nbconvert_exporter": "python",
   "pygments_lexer": "ipython3",
   "version": "3.12.8"
  }
 },
 "nbformat": 4,
 "nbformat_minor": 5
}
