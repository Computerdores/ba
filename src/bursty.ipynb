{
 "cells": [
  {
   "cell_type": "code",
   "execution_count": null,
   "id": "0",
   "metadata": {},
   "outputs": [],
   "source": [
    "%matplotlib widget"
   ]
  },
  {
   "cell_type": "code",
   "execution_count": null,
   "id": "1",
   "metadata": {},
   "outputs": [],
   "source": [
    "import pandas as pd\n",
    "import matplotlib.pyplot as plt"
   ]
  },
  {
   "cell_type": "code",
   "execution_count": null,
   "id": "2",
   "metadata": {},
   "outputs": [],
   "source": [
    "from pathlib import Path\n",
    "BASE_DIR = Path(\"src\")\n",
    "\n",
    "FILES = [\n",
    "    \"flugzeug_bq_s16384_bs8192_bi64_wt50.csv\",\n",
    "    #\"flugzeug_bq_s16384_bs2048_bi64_wt50.csv\",\n",
    "    #\"flugzeug_bq_s16384_bs1024_bi64_wt50.csv\",\n",
    "    \"flugzeug_bq_s16384_bs32_bi64_wt50.csv\",\n",
    "    \"flugzeug_bq_s16384_bs8_bi64_wt50.csv\",\n",
    "    #\"flugzeug_bq_s16384_bs8192_bi64_wt200.csv\",\n",
    "    #\"flugzeug_bq_s16384_bs8192_bi64_wt500.csv\",\n",
    "]\n",
    "\n",
    "def load_results(path: str):\n",
    "    df = pd.read_csv(BASE_DIR.joinpath(path))\n",
    "\n",
    "    df[\"RX_TIME\"] = df[\"RX_End\"] - df[\"RX_Start\"]\n",
    "    df[\"TX_TIME\"] = df[\"TX_End\"] - df[\"TX_Start\"]\n",
    "    df[\"LATENCY\"] = df[\"RX_End\"] - df[\"TX_End\"]\n",
    "\n",
    "    return df\n",
    "\n",
    "results = [(load_results(f), f) for f in FILES]\n",
    "\n",
    "for res in results:\n",
    "    print(f\"Mean for {res[1]}:\\n{res[0][[\"RX_TIME\", \"TX_TIME\"]].mean()}\")\n",
    "    print(f\"Median for {res[1]}:\\n{res[0][[\"RX_TIME\", \"TX_TIME\"]].median()}\")\n",
    "    print(f\"Std. Deriv. for {res[1]}:\\n{res[0][[\"RX_TIME\", \"TX_TIME\"]].std()}\")\n",
    "    print(\"---------------------------------------------\")\n"
   ]
  },
  {
   "cell_type": "code",
   "execution_count": null,
   "id": "3",
   "metadata": {},
   "outputs": [],
   "source": [
    "import seaborn as sns\n",
    "\n",
    "# Plot RX_TIME\n",
    "plt.figure(figsize=(10, 6))\n",
    "for df, filename in results:\n",
    "    filtered_rx = df[\"RX_TIME\"][df[\"RX_TIME\"] <= 200]\n",
    "    sns.histplot(filtered_rx, bins=50, label=filename, element=\"step\")\n",
    "plt.title(\"RX_TIME Histogram (≤100)\")\n",
    "plt.xlabel(\"RX_TIME\")\n",
    "plt.ylabel(\"Density\")\n",
    "plt.xlim(0, 200)\n",
    "plt.legend()\n",
    "plt.tight_layout()\n",
    "plt.show()\n",
    "\n",
    "# Plot TX_TIME\n",
    "plt.figure(figsize=(10, 6))\n",
    "for df, filename in results:\n",
    "    filtered_tx = df[\"TX_TIME\"][df[\"TX_TIME\"] <= 200]\n",
    "    sns.histplot(filtered_tx, bins=50, label=filename, element=\"step\")\n",
    "plt.title(\"TX_TIME Histogram (≤100)\")\n",
    "plt.xlabel(\"TX_TIME\")\n",
    "plt.ylabel(\"Density\")\n",
    "plt.xlim(0, 200)\n",
    "plt.legend()\n",
    "plt.tight_layout()\n",
    "plt.show()\n"
   ]
  }
 ],
 "metadata": {
  "kernelspec": {
   "display_name": "Python 3",
   "language": "python",
   "name": "python3"
  },
  "language_info": {
   "codemirror_mode": {
    "name": "ipython",
    "version": 3
   },
   "file_extension": ".py",
   "mimetype": "text/x-python",
   "name": "python",
   "nbconvert_exporter": "python",
   "pygments_lexer": "ipython3",
   "version": "3.12.8"
  }
 },
 "nbformat": 4,
 "nbformat_minor": 5
}
